{
 "cells": [
  {
   "cell_type": "markdown",
   "metadata": {},
   "source": [
    "# Sistemas Inteligentes 2020/2021\n",
    "\n",
    "## Mini-projeto 3: Aprendizagem Automática\n",
    "\n",
    "\n",
    "#### Entrega: 9 de Maio às 23h59\n",
    "\n",
    "**Nota:** Todas as dúvidas relacionadas com este projeto devem ser:\n",
    "* colocadas no forum (preferencial)\n",
    "* por email dirigidas ao [Prof. André Falcão](mailto:aofalcao@fc.ul.pt). **Os emails deverão ter no subject/cabeçalho `[SI-P3]`**\n",
    "\n",
    "A entrega deverá ser um Notebook de acordo com o template fornecido (`SI-proj3-XX.ipynb`) em que XX deve ser substituído pelo número do grupo). **Muito Importante: O Notebook deverá ter sido executado, mostrando todos os outputs.**"
   ]
  },
  {
   "cell_type": "markdown",
   "metadata": {},
   "source": [
    "## Enunciado\n",
    "\n",
    "O objectivo deste mini-projecto é **o ajustamento e selecção de um modelo de aprendizagem automática** que garanta os melhores resultados na previsão para um problema na área da medicina. O propósito é prever a presença ou não de doença cardio-vascular em pacientes. Os [dados originais](https://www.kaggle.com/ronitf/heart-disease-uci) provêm de um estudo internacional com centenas de pacientes. \n",
    "\n",
    "O ficheiro de dados `heart_1.csv`, contém todos os dados necessários para o ajustamento dos modelos.\n",
    "As colunas no data set são as seguintes:\n",
    "\n",
    "1. idade\n",
    "2. sexo\n",
    "3. tipo de dor no peito (4 valores)\n",
    "4. pressão arterial em repouso\n",
    "5. colesterol sérico em mg / dl\n",
    "6. açúcar no sangue em jejum> 120 mg / dl\n",
    "7. resultados eletrocardiográficos de repouso (valores 0,1,2)\n",
    "8. frequência cardíaca máxima alcançada\n",
    "9. angina induzida por exercício\n",
    "10. pico antigo = depressão ST induzida por exercício em relação ao repouso\n",
    "11. a inclinação do segmento ST de pico do exercício\n",
    "12. número de vasos principais (0-3) coloridos por fluorosopia\n",
    "13. thal: 3 = normal; 6 = defeito corrigido; 7 = defeito reversível \n",
    "\n",
    "A última variável na tabela é a variável dependente (target) e tem os valores 1 ou zero consoante existe ou não doença cardíaca.\n"
   ]
  },
  {
   "cell_type": "markdown",
   "metadata": {},
   "source": [
    "\n",
    "### 1. Processamento dos dados\n",
    "\n",
    "Nesta fase deverão ser identificadas quais as variáveis a discretizar e quais deverão ter valores contínuos e o dataset deverá ser processado para dar uma matriz `X` e um vector de dados de resposta `y`.\n"
   ]
  },
  {
   "cell_type": "markdown",
   "metadata": {},
   "source": [
    "### 2. Ajustamento de modelos de aprendizagem \n",
    "\n",
    "Pretende-se que os alunos explorem os seguintes aspectos:\n",
    "\n",
    "1. Testar Árvores de Decisão, Naive Bayes e K-vizinhos mais próximos\n",
    "2. Testar diferentes parâmetros para os modelos\n",
    "3. [BONUS] Testar modelos com diferentes subconjuntos de variáveis (máx. 4 subconjuntos diferentes) (será que muitas variáveis dão sempre melhores modelos)?\n",
    "\n",
    "**O Bonus só terá efeito se os pontos anteriores estiverem correctamente realizados** \n",
    "\n",
    "#### 2.1. Ajustamento de modelos e validação\n",
    "\n",
    "Os modelos deverão ser ajustados e validados apenas usando este conjunto de dados.\n",
    "\n",
    "Para cada modelo ajustado deverão ser apresentadas as métricas que ache essenciais para a sua selecção.\n",
    "\n",
    "\n",
    "#### 2.2. Seleção e apresentação do melhor modelo\n",
    "\n",
    "Os resultados deverão ser apresentados numa tabela final e o melhor modelo deve ser ilustrado e discutido.\n",
    "\n"
   ]
  },
  {
   "cell_type": "markdown",
   "metadata": {},
   "source": [
    "### 3. Validação do modelo final ajustado com um conjunto de validação independente\n",
    "\n",
    "**Um só modelo** deve ser seleccionado dos modelos testados anteriormente e o seu desempenho avaliado sobre `heart_ivs.csv`. \n"
   ]
  }
 ],
 "metadata": {
  "kernelspec": {
   "display_name": "Python 3",
   "language": "python",
   "name": "python3"
  },
  "language_info": {
   "codemirror_mode": {
    "name": "ipython",
    "version": 3
   },
   "file_extension": ".py",
   "mimetype": "text/x-python",
   "name": "python",
   "nbconvert_exporter": "python",
   "pygments_lexer": "ipython3",
   "version": "3.8.5"
  }
 },
 "nbformat": 4,
 "nbformat_minor": 4
}
